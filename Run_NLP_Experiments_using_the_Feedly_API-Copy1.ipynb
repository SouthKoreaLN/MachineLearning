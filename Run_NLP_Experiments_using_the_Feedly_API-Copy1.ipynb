{
 "cells": [
  {
   "cell_type": "markdown",
   "metadata": {
    "colab_type": "text",
    "id": "view-in-github"
   },
   "source": [
    "<a href=\"https://colab.research.google.com/github/nleconte/MachineLearning/blob/master/Run_NLP_Experiments_using_the_Feedly_API.ipynb\" target=\"_parent\"><img src=\"https://colab.research.google.com/assets/colab-badge.svg\" alt=\"Open In Colab\"/></a>"
   ]
  },
  {
   "cell_type": "markdown",
   "metadata": {
    "colab_type": "text",
    "id": "FLbhLc-IzW3N"
   },
   "source": [
    "# Run NLP Experiments using the Feedly API\n",
    "\n",
    "## Introduction\n",
    "\n",
    "We live in a world where the volume of information is increasing exponentially. We believe that advances in Machine Learning and Natural Language Processing can help process and prioritize information more efficiently.\n",
    "\n",
    "The goal of this notebook is to help you create a simple KNN classifier that takes as input a Feedly board with 50 articles about AI and learns to predict which articles from The Verge and Engadget are about AI. All this in less than 20 minutes.\n",
    "\n",
    "You will learn:\n",
    "1. How to connect to a Feedly account using the Feedly API and download articles from feeds and boards\n",
    "2. How to train a classifier to reliably classify AI and non-AI articles\n",
    "3. How to apply the classifier to new articles\n",
    "4. How to save articles to a Feedly board\n",
    "\n",
    "[See blog post for more information](https://blog.feedly.com)"
   ]
  },
  {
   "cell_type": "markdown",
   "metadata": {
    "colab_type": "text",
    "id": "BaFI_TDEeUTB"
   },
   "source": [
    "Terminology Mapping: There is sometimes a gap between the terms used in the Feedly UI and the concepts used in the Feedly API. What is called a board in the UI is labeled tags in the API. What is called feed in the UI is labeled category in the API.\n"
   ]
  },
  {
   "cell_type": "markdown",
   "metadata": {
    "colab_type": "text",
    "id": "wmCqZUiJ0yrO"
   },
   "source": [
    "## Setup\n",
    "\n",
    "If you do not have a Feedly client, you can create one for free on https://feedly.com \n",
    "\n",
    "Let's install the feedly client and the NLP library gensim first."
   ]
  },
  {
   "cell_type": "code",
   "execution_count": 1,
   "metadata": {
    "colab": {
     "base_uri": "https://localhost:8080/",
     "height": 51
    },
    "colab_type": "code",
    "id": "1_KvshIIfsEq",
    "outputId": "d8af552e-215f-4adc-826d-f253cb875509"
   },
   "outputs": [
    {
     "name": "stdout",
     "output_type": "stream",
     "text": [
      "\u001b[33mYou are using pip version 18.1, however version 19.0.1 is available.\n",
      "You should consider upgrading via the 'pip install --upgrade pip' command.\u001b[0m\n"
     ]
    }
   ],
   "source": [
    "!pip install feedly-client gensim --quiet"
   ]
  },
  {
   "cell_type": "code",
   "execution_count": 2,
   "metadata": {
    "colab": {},
    "colab_type": "code",
    "id": "eTjxs6Psge_V"
   },
   "outputs": [],
   "source": [
    "from feedly.session import FeedlySession\n",
    "from feedly.data import StreamOptions, Streamable\n",
    "from bs4 import BeautifulSoup\n",
    "import pandas as pd\n",
    "import numpy as np\n",
    "import urllib3\n",
    "urllib3.disable_warnings()"
   ]
  },
  {
   "cell_type": "markdown",
   "metadata": {
    "colab_type": "text",
    "id": "73mn9eP21Wsm"
   },
   "source": [
    "## Connect to your Feedly\n",
    "\n",
    "To log in to your account, you should get your feedly token. You can find it in the `console` page of your account [here](https://feedly.com/i/console) (recommended) by clicking on \"Copy Token to clipboard\"\n",
    ". \n",
    "Or if you want to do more advanced stuff you can create a  [developer token](https://developer.feedly.com/v3/developer/) instead. \n",
    "\n",
    "To download articles, you first have to pick one of your feeds with `category = sess.get_category(category_uuid)` and then do `category.stream_contents()`. Let's see how it works."
   ]
  },
  {
   "cell_type": "code",
   "execution_count": 4,
   "metadata": {
    "colab": {},
    "colab_type": "code",
    "id": "JqcyXIYEgIlL"
   },
   "outputs": [],
   "source": [
    "# TODO: Enter your feedlyToken here\n",
    "token = \"A3XKf_UTeu42JUWUdhP-3T6ZCVJ_hiC6uhC2KCC3aC1k1h-oIX_-TXS1H1VqTagma2NL72DSiroN5IeZ0DlWH1wkT7CQ7Yl3AfsnT6gZXivFZQ1yRwZPAIUDCbqHTN2r6fyvdAUjxAAJ_-mls_nMQPVjUQ5zlw20Ne5XCknnzS1_q-YMzi_SsKvKbgBQtje27ndkuTfUVa2V31H2GEaXuzNW0kaQc954R0BS1T817eY30g:feedly\"\n",
    "\n",
    "if token is None:\n",
    "  raise ValueError(\"Please enter a token\")"
   ]
  },
  {
   "cell_type": "code",
   "execution_count": 5,
   "metadata": {
    "colab": {},
    "colab_type": "code",
    "id": "YRSG5yYuga2n"
   },
   "outputs": [],
   "source": [
    "# initialize session\n",
    "sess = FeedlySession(auth=token)"
   ]
  },
  {
   "cell_type": "code",
   "execution_count": 6,
   "metadata": {
    "colab": {},
    "colab_type": "code",
    "id": "54wfvo-xgnuE"
   },
   "outputs": [
    {
     "name": "stdout",
     "output_type": "stream",
     "text": [
      "Personal feeds:\n",
      "\t \"Glande\" (Glande)\n",
      "\t \"Recherche\" (Recherche)\n",
      "\t \"Tools\" (Tools)\n",
      "Personal boards:\n",
      "\t \"global.saved\"\n"
     ]
    }
   ],
   "source": [
    "# print the names of all your feeds (categories) and boards (tags)\n",
    "print(\"Personal feeds:\")\n",
    "for category_uuid, category_data in sess.user.get_categories().items():\n",
    "  print(\"\\t\", f'\"{category_uuid}\"', f\"({category_data['label']})\")\n",
    "print(\"Personal boards:\")\n",
    "for tag_name in sess.user.get_tags():\n",
    "  print(\"\\t\",f'\"{tag_name}\"')"
   ]
  },
  {
   "cell_type": "code",
   "execution_count": 7,
   "metadata": {
    "colab": {},
    "colab_type": "code",
    "id": "WJT9O8QfgqP9"
   },
   "outputs": [
    {
     "name": "stdout",
     "output_type": "stream",
     "text": [
      "Articles from your personal feed 'Glande':\n",
      "\tSaturday Morning Breakfast Cereal - Clothes\n",
      "\tComic for 2019.01.23\n",
      "\tSaturday Morning Breakfast Cereal - Eve\n",
      "\tComic for 2019.01.22\n",
      "\tSaturday Morning Breakfast Cereal - Swords\n"
     ]
    }
   ],
   "source": [
    "# print the titles of some articles\n",
    "\n",
    "# get your first category\n",
    "personal_category_uuid = list(sess.user.get_categories().keys())[0]\n",
    "\n",
    "# download articles\n",
    "entries = sess.user.get_category(personal_category_uuid).stream_contents()\n",
    "entries = list(entries)\n",
    "\n",
    "# get the titles in the json property\n",
    "print(f\"Articles from your personal feed '{personal_category_uuid}':\")\n",
    "for entry in entries[:5]:\n",
    "\tprint(\"\\t\"+entry.json[\"title\"])\n"
   ]
  },
  {
   "cell_type": "markdown",
   "metadata": {
    "colab_type": "text",
    "id": "Y72ta6ib2hVp"
   },
   "source": [
    "Now that you know how to get articles from your feedly, let's play with them to build a classifier !"
   ]
  },
  {
   "cell_type": "markdown",
   "metadata": {
    "colab_type": "text",
    "id": "6fC6doJ224MX"
   },
   "source": [
    "## Train your Machine Learning  algorithm\n",
    "\n",
    "Feedly makes it easy to aggregate articles from multiple sources in one place. The Feedly API allows you to get a normalized JSON representation of all the articles aggregated in your Feedly.\n",
    "\n",
    "Let’s try to create a KNN classifier that determines which articles from your Tech feed (The Verge and Engadget) are related to the AI topic.\n",
    "\n",
    "If you do not have a Tech feed, you can use the Add Content to quickly create a new Tech feed and add The Verge and Engadget to that feed.\n",
    "\n",
    "\n"
   ]
  },
  {
   "cell_type": "markdown",
   "metadata": {
    "colab_type": "text",
    "id": "8hOFksca5exu"
   },
   "source": [
    "To build a classifier, we need to train a model with positive and negative examples, so that it will be able te recognize new positive articles. Therefore we need a positive board with examples of 'on-topic' articles. You can spend 10-15min on your feedly to save interesting articles into a positive board (>20 articles, the more the better), or you can use a board we already built for you that contains articles about Artificial Intelligence.\n",
    "\n",
    "We will call this board your `positive_board`"
   ]
  },
  {
   "cell_type": "markdown",
   "metadata": {
    "colab_type": "text",
    "id": "pEzIqmmA-sZ_"
   },
   "source": [
    "![machine learning filter](https://blog.feedly.com/wp-content/uploads/2019/01/Screenshot-2019-01-24-16.22.27-1024x548.png)"
   ]
  },
  {
   "cell_type": "markdown",
   "metadata": {
    "colab_type": "text",
    "id": "rJinKyky42Dt"
   },
   "source": [
    "### 2.1 Gather the data\n",
    "Let's see how you can build a model that can find 'on-topic' articles from the noise of a source feed.\n",
    "We suppose that we can use the noise of your source feed as a negative class for a classifier (no need to have a negative board !)."
   ]
  },
  {
   "cell_type": "code",
   "execution_count": 8,
   "metadata": {
    "colab": {},
    "colab_type": "code",
    "id": "aso8s1LRHVm5"
   },
   "outputs": [
    {
     "name": "stdout",
     "output_type": "stream",
     "text": [
      "Here are all your personal feeds:\n",
      "\t \"Glande\" (Glande)\n",
      "\t \"Recherche\" (Recherche)\n",
      "\t \"Tools\" (Tools)\n"
     ]
    }
   ],
   "source": [
    "# print all your personal feeds\n",
    "print(\"Here are all your personal feeds:\")\n",
    "for category_uuid, category_data in sess.user.get_categories().items():\n",
    "  print(\"\\t\", f'\"{category_uuid}\"', f\"({category_data['label']})\")\n",
    "\n"
   ]
  },
  {
   "cell_type": "code",
   "execution_count": 9,
   "metadata": {
    "colab": {},
    "colab_type": "code",
    "id": "ZI7Y3wdOHtGR"
   },
   "outputs": [],
   "source": [
    "# TODO Leave 'None' to use the default source feed with content from The Verge and Engadget, or select your category (uuid) here.\n",
    "source_feed = None\n",
    "\n",
    "if source_feed is not None and source_feed not in sess.user.get_categories():\n",
    "  raise ValueError('Please select an existing feed')"
   ]
  },
  {
   "cell_type": "code",
   "execution_count": 10,
   "metadata": {
    "colab": {},
    "colab_type": "code",
    "id": "PbY2J5EGKjeh"
   },
   "outputs": [
    {
     "name": "stdout",
     "output_type": "stream",
     "text": [
      "Here are all your boards:\n",
      "\t \"global.saved\"\n"
     ]
    }
   ],
   "source": [
    "print(\"Here are all your boards:\")\n",
    "for tag_name in sess.user.get_tags():\n",
    "  print(\"\\t\",f'\"{tag_name}\"')"
   ]
  },
  {
   "cell_type": "code",
   "execution_count": 11,
   "metadata": {
    "colab": {},
    "colab_type": "code",
    "id": "PQOq7cqkKgit"
   },
   "outputs": [],
   "source": [
    "# TODO: Leave 'None' to use the default board with articles about AI, or enter your positive articles board.\n",
    "positive_board = None\n",
    "\n",
    "if positive_board not in sess.user.get_tags() and positive_board is not None:\n",
    "  raise ValueError('Please select an existing board')\n"
   ]
  },
  {
   "cell_type": "code",
   "execution_count": 12,
   "metadata": {
    "colab": {
     "base_uri": "https://localhost:8080/",
     "height": 68
    },
    "colab_type": "code",
    "id": "Y70V8DNX29Nc",
    "outputId": "2ba80f59-2e73-4458-806d-0b829baccefd"
   },
   "outputs": [
    {
     "name": "stdout",
     "output_type": "stream",
     "text": [
      "downloading articles about AI...\n"
     ]
    },
    {
     "ename": "URLError",
     "evalue": "<urlopen error [Errno 61] Connection refused>",
     "output_type": "error",
     "traceback": [
      "\u001b[0;31m---------------------------------------------------------------------------\u001b[0m",
      "\u001b[0;31mConnectionRefusedError\u001b[0m                    Traceback (most recent call last)",
      "\u001b[0;32m~/anaconda3/lib/python3.6/urllib/request.py\u001b[0m in \u001b[0;36mdo_open\u001b[0;34m(self, http_class, req, **http_conn_args)\u001b[0m\n\u001b[1;32m   1317\u001b[0m                 h.request(req.get_method(), req.selector, req.data, headers,\n\u001b[0;32m-> 1318\u001b[0;31m                           encode_chunked=req.has_header('Transfer-encoding'))\n\u001b[0m\u001b[1;32m   1319\u001b[0m             \u001b[0;32mexcept\u001b[0m \u001b[0mOSError\u001b[0m \u001b[0;32mas\u001b[0m \u001b[0merr\u001b[0m\u001b[0;34m:\u001b[0m \u001b[0;31m# timeout error\u001b[0m\u001b[0;34m\u001b[0m\u001b[0m\n",
      "\u001b[0;32m~/anaconda3/lib/python3.6/http/client.py\u001b[0m in \u001b[0;36mrequest\u001b[0;34m(self, method, url, body, headers, encode_chunked)\u001b[0m\n\u001b[1;32m   1238\u001b[0m         \u001b[0;34m\"\"\"Send a complete request to the server.\"\"\"\u001b[0m\u001b[0;34m\u001b[0m\u001b[0m\n\u001b[0;32m-> 1239\u001b[0;31m         \u001b[0mself\u001b[0m\u001b[0;34m.\u001b[0m\u001b[0m_send_request\u001b[0m\u001b[0;34m(\u001b[0m\u001b[0mmethod\u001b[0m\u001b[0;34m,\u001b[0m \u001b[0murl\u001b[0m\u001b[0;34m,\u001b[0m \u001b[0mbody\u001b[0m\u001b[0;34m,\u001b[0m \u001b[0mheaders\u001b[0m\u001b[0;34m,\u001b[0m \u001b[0mencode_chunked\u001b[0m\u001b[0;34m)\u001b[0m\u001b[0;34m\u001b[0m\u001b[0m\n\u001b[0m\u001b[1;32m   1240\u001b[0m \u001b[0;34m\u001b[0m\u001b[0m\n",
      "\u001b[0;32m~/anaconda3/lib/python3.6/http/client.py\u001b[0m in \u001b[0;36m_send_request\u001b[0;34m(self, method, url, body, headers, encode_chunked)\u001b[0m\n\u001b[1;32m   1284\u001b[0m             \u001b[0mbody\u001b[0m \u001b[0;34m=\u001b[0m \u001b[0m_encode\u001b[0m\u001b[0;34m(\u001b[0m\u001b[0mbody\u001b[0m\u001b[0;34m,\u001b[0m \u001b[0;34m'body'\u001b[0m\u001b[0;34m)\u001b[0m\u001b[0;34m\u001b[0m\u001b[0m\n\u001b[0;32m-> 1285\u001b[0;31m         \u001b[0mself\u001b[0m\u001b[0;34m.\u001b[0m\u001b[0mendheaders\u001b[0m\u001b[0;34m(\u001b[0m\u001b[0mbody\u001b[0m\u001b[0;34m,\u001b[0m \u001b[0mencode_chunked\u001b[0m\u001b[0;34m=\u001b[0m\u001b[0mencode_chunked\u001b[0m\u001b[0;34m)\u001b[0m\u001b[0;34m\u001b[0m\u001b[0m\n\u001b[0m\u001b[1;32m   1286\u001b[0m \u001b[0;34m\u001b[0m\u001b[0m\n",
      "\u001b[0;32m~/anaconda3/lib/python3.6/http/client.py\u001b[0m in \u001b[0;36mendheaders\u001b[0;34m(self, message_body, encode_chunked)\u001b[0m\n\u001b[1;32m   1233\u001b[0m             \u001b[0;32mraise\u001b[0m \u001b[0mCannotSendHeader\u001b[0m\u001b[0;34m(\u001b[0m\u001b[0;34m)\u001b[0m\u001b[0;34m\u001b[0m\u001b[0m\n\u001b[0;32m-> 1234\u001b[0;31m         \u001b[0mself\u001b[0m\u001b[0;34m.\u001b[0m\u001b[0m_send_output\u001b[0m\u001b[0;34m(\u001b[0m\u001b[0mmessage_body\u001b[0m\u001b[0;34m,\u001b[0m \u001b[0mencode_chunked\u001b[0m\u001b[0;34m=\u001b[0m\u001b[0mencode_chunked\u001b[0m\u001b[0;34m)\u001b[0m\u001b[0;34m\u001b[0m\u001b[0m\n\u001b[0m\u001b[1;32m   1235\u001b[0m \u001b[0;34m\u001b[0m\u001b[0m\n",
      "\u001b[0;32m~/anaconda3/lib/python3.6/http/client.py\u001b[0m in \u001b[0;36m_send_output\u001b[0;34m(self, message_body, encode_chunked)\u001b[0m\n\u001b[1;32m   1025\u001b[0m         \u001b[0;32mdel\u001b[0m \u001b[0mself\u001b[0m\u001b[0;34m.\u001b[0m\u001b[0m_buffer\u001b[0m\u001b[0;34m[\u001b[0m\u001b[0;34m:\u001b[0m\u001b[0;34m]\u001b[0m\u001b[0;34m\u001b[0m\u001b[0m\n\u001b[0;32m-> 1026\u001b[0;31m         \u001b[0mself\u001b[0m\u001b[0;34m.\u001b[0m\u001b[0msend\u001b[0m\u001b[0;34m(\u001b[0m\u001b[0mmsg\u001b[0m\u001b[0;34m)\u001b[0m\u001b[0;34m\u001b[0m\u001b[0m\n\u001b[0m\u001b[1;32m   1027\u001b[0m \u001b[0;34m\u001b[0m\u001b[0m\n",
      "\u001b[0;32m~/anaconda3/lib/python3.6/http/client.py\u001b[0m in \u001b[0;36msend\u001b[0;34m(self, data)\u001b[0m\n\u001b[1;32m    963\u001b[0m             \u001b[0;32mif\u001b[0m \u001b[0mself\u001b[0m\u001b[0;34m.\u001b[0m\u001b[0mauto_open\u001b[0m\u001b[0;34m:\u001b[0m\u001b[0;34m\u001b[0m\u001b[0m\n\u001b[0;32m--> 964\u001b[0;31m                 \u001b[0mself\u001b[0m\u001b[0;34m.\u001b[0m\u001b[0mconnect\u001b[0m\u001b[0;34m(\u001b[0m\u001b[0;34m)\u001b[0m\u001b[0;34m\u001b[0m\u001b[0m\n\u001b[0m\u001b[1;32m    965\u001b[0m             \u001b[0;32melse\u001b[0m\u001b[0;34m:\u001b[0m\u001b[0;34m\u001b[0m\u001b[0m\n",
      "\u001b[0;32m~/anaconda3/lib/python3.6/http/client.py\u001b[0m in \u001b[0;36mconnect\u001b[0;34m(self)\u001b[0m\n\u001b[1;32m   1391\u001b[0m \u001b[0;34m\u001b[0m\u001b[0m\n\u001b[0;32m-> 1392\u001b[0;31m             \u001b[0msuper\u001b[0m\u001b[0;34m(\u001b[0m\u001b[0;34m)\u001b[0m\u001b[0;34m.\u001b[0m\u001b[0mconnect\u001b[0m\u001b[0;34m(\u001b[0m\u001b[0;34m)\u001b[0m\u001b[0;34m\u001b[0m\u001b[0m\n\u001b[0m\u001b[1;32m   1393\u001b[0m \u001b[0;34m\u001b[0m\u001b[0m\n",
      "\u001b[0;32m~/anaconda3/lib/python3.6/http/client.py\u001b[0m in \u001b[0;36mconnect\u001b[0;34m(self)\u001b[0m\n\u001b[1;32m    935\u001b[0m         self.sock = self._create_connection(\n\u001b[0;32m--> 936\u001b[0;31m             (self.host,self.port), self.timeout, self.source_address)\n\u001b[0m\u001b[1;32m    937\u001b[0m         \u001b[0mself\u001b[0m\u001b[0;34m.\u001b[0m\u001b[0msock\u001b[0m\u001b[0;34m.\u001b[0m\u001b[0msetsockopt\u001b[0m\u001b[0;34m(\u001b[0m\u001b[0msocket\u001b[0m\u001b[0;34m.\u001b[0m\u001b[0mIPPROTO_TCP\u001b[0m\u001b[0;34m,\u001b[0m \u001b[0msocket\u001b[0m\u001b[0;34m.\u001b[0m\u001b[0mTCP_NODELAY\u001b[0m\u001b[0;34m,\u001b[0m \u001b[0;36m1\u001b[0m\u001b[0;34m)\u001b[0m\u001b[0;34m\u001b[0m\u001b[0m\n",
      "\u001b[0;32m~/anaconda3/lib/python3.6/socket.py\u001b[0m in \u001b[0;36mcreate_connection\u001b[0;34m(address, timeout, source_address)\u001b[0m\n\u001b[1;32m    723\u001b[0m     \u001b[0;32mif\u001b[0m \u001b[0merr\u001b[0m \u001b[0;32mis\u001b[0m \u001b[0;32mnot\u001b[0m \u001b[0;32mNone\u001b[0m\u001b[0;34m:\u001b[0m\u001b[0;34m\u001b[0m\u001b[0m\n\u001b[0;32m--> 724\u001b[0;31m         \u001b[0;32mraise\u001b[0m \u001b[0merr\u001b[0m\u001b[0;34m\u001b[0m\u001b[0m\n\u001b[0m\u001b[1;32m    725\u001b[0m     \u001b[0;32melse\u001b[0m\u001b[0;34m:\u001b[0m\u001b[0;34m\u001b[0m\u001b[0m\n",
      "\u001b[0;32m~/anaconda3/lib/python3.6/socket.py\u001b[0m in \u001b[0;36mcreate_connection\u001b[0;34m(address, timeout, source_address)\u001b[0m\n\u001b[1;32m    712\u001b[0m                 \u001b[0msock\u001b[0m\u001b[0;34m.\u001b[0m\u001b[0mbind\u001b[0m\u001b[0;34m(\u001b[0m\u001b[0msource_address\u001b[0m\u001b[0;34m)\u001b[0m\u001b[0;34m\u001b[0m\u001b[0m\n\u001b[0;32m--> 713\u001b[0;31m             \u001b[0msock\u001b[0m\u001b[0;34m.\u001b[0m\u001b[0mconnect\u001b[0m\u001b[0;34m(\u001b[0m\u001b[0msa\u001b[0m\u001b[0;34m)\u001b[0m\u001b[0;34m\u001b[0m\u001b[0m\n\u001b[0m\u001b[1;32m    714\u001b[0m             \u001b[0;31m# Break explicitly a reference cycle\u001b[0m\u001b[0;34m\u001b[0m\u001b[0;34m\u001b[0m\u001b[0m\n",
      "\u001b[0;31mConnectionRefusedError\u001b[0m: [Errno 61] Connection refused",
      "\nDuring handling of the above exception, another exception occurred:\n",
      "\u001b[0;31mURLError\u001b[0m                                  Traceback (most recent call last)",
      "\u001b[0;32m<ipython-input-12-c13d9ea3bde2>\u001b[0m in \u001b[0;36m<module>\u001b[0;34m()\u001b[0m\n\u001b[1;32m      8\u001b[0m   \u001b[0;32mimport\u001b[0m \u001b[0murllib\u001b[0m\u001b[0;34m.\u001b[0m\u001b[0mrequest\u001b[0m\u001b[0;34m,\u001b[0m \u001b[0mpickle\u001b[0m\u001b[0;34m\u001b[0m\u001b[0m\n\u001b[1;32m      9\u001b[0m   \u001b[0murl\u001b[0m \u001b[0;34m=\u001b[0m \u001b[0;34m\"https://www.dropbox.com/s/p14pm6qlocz7z0g/50_ai_articles.pickle?dl=1\"\u001b[0m\u001b[0;34m\u001b[0m\u001b[0m\n\u001b[0;32m---> 10\u001b[0;31m   \u001b[0mresponse\u001b[0m \u001b[0;34m=\u001b[0m \u001b[0murllib\u001b[0m\u001b[0;34m.\u001b[0m\u001b[0mrequest\u001b[0m\u001b[0;34m.\u001b[0m\u001b[0murlopen\u001b[0m\u001b[0;34m(\u001b[0m\u001b[0murl\u001b[0m\u001b[0;34m)\u001b[0m\u001b[0;34m\u001b[0m\u001b[0m\n\u001b[0m\u001b[1;32m     11\u001b[0m   \u001b[0mpositive_entries\u001b[0m \u001b[0;34m=\u001b[0m \u001b[0mlist\u001b[0m\u001b[0;34m(\u001b[0m\u001b[0mpickle\u001b[0m\u001b[0;34m.\u001b[0m\u001b[0mload\u001b[0m\u001b[0;34m(\u001b[0m\u001b[0mresponse\u001b[0m\u001b[0;34m)\u001b[0m\u001b[0;34m)\u001b[0m\u001b[0;34m\u001b[0m\u001b[0m\n\u001b[1;32m     12\u001b[0m \u001b[0mn_positive\u001b[0m \u001b[0;34m=\u001b[0m \u001b[0mlen\u001b[0m\u001b[0;34m(\u001b[0m\u001b[0mpositive_entries\u001b[0m\u001b[0;34m)\u001b[0m\u001b[0;34m\u001b[0m\u001b[0m\n",
      "\u001b[0;32m~/anaconda3/lib/python3.6/urllib/request.py\u001b[0m in \u001b[0;36murlopen\u001b[0;34m(url, data, timeout, cafile, capath, cadefault, context)\u001b[0m\n\u001b[1;32m    221\u001b[0m     \u001b[0;32melse\u001b[0m\u001b[0;34m:\u001b[0m\u001b[0;34m\u001b[0m\u001b[0m\n\u001b[1;32m    222\u001b[0m         \u001b[0mopener\u001b[0m \u001b[0;34m=\u001b[0m \u001b[0m_opener\u001b[0m\u001b[0;34m\u001b[0m\u001b[0m\n\u001b[0;32m--> 223\u001b[0;31m     \u001b[0;32mreturn\u001b[0m \u001b[0mopener\u001b[0m\u001b[0;34m.\u001b[0m\u001b[0mopen\u001b[0m\u001b[0;34m(\u001b[0m\u001b[0murl\u001b[0m\u001b[0;34m,\u001b[0m \u001b[0mdata\u001b[0m\u001b[0;34m,\u001b[0m \u001b[0mtimeout\u001b[0m\u001b[0;34m)\u001b[0m\u001b[0;34m\u001b[0m\u001b[0m\n\u001b[0m\u001b[1;32m    224\u001b[0m \u001b[0;34m\u001b[0m\u001b[0m\n\u001b[1;32m    225\u001b[0m \u001b[0;32mdef\u001b[0m \u001b[0minstall_opener\u001b[0m\u001b[0;34m(\u001b[0m\u001b[0mopener\u001b[0m\u001b[0;34m)\u001b[0m\u001b[0;34m:\u001b[0m\u001b[0;34m\u001b[0m\u001b[0m\n",
      "\u001b[0;32m~/anaconda3/lib/python3.6/urllib/request.py\u001b[0m in \u001b[0;36mopen\u001b[0;34m(self, fullurl, data, timeout)\u001b[0m\n\u001b[1;32m    530\u001b[0m         \u001b[0;32mfor\u001b[0m \u001b[0mprocessor\u001b[0m \u001b[0;32min\u001b[0m \u001b[0mself\u001b[0m\u001b[0;34m.\u001b[0m\u001b[0mprocess_response\u001b[0m\u001b[0;34m.\u001b[0m\u001b[0mget\u001b[0m\u001b[0;34m(\u001b[0m\u001b[0mprotocol\u001b[0m\u001b[0;34m,\u001b[0m \u001b[0;34m[\u001b[0m\u001b[0;34m]\u001b[0m\u001b[0;34m)\u001b[0m\u001b[0;34m:\u001b[0m\u001b[0;34m\u001b[0m\u001b[0m\n\u001b[1;32m    531\u001b[0m             \u001b[0mmeth\u001b[0m \u001b[0;34m=\u001b[0m \u001b[0mgetattr\u001b[0m\u001b[0;34m(\u001b[0m\u001b[0mprocessor\u001b[0m\u001b[0;34m,\u001b[0m \u001b[0mmeth_name\u001b[0m\u001b[0;34m)\u001b[0m\u001b[0;34m\u001b[0m\u001b[0m\n\u001b[0;32m--> 532\u001b[0;31m             \u001b[0mresponse\u001b[0m \u001b[0;34m=\u001b[0m \u001b[0mmeth\u001b[0m\u001b[0;34m(\u001b[0m\u001b[0mreq\u001b[0m\u001b[0;34m,\u001b[0m \u001b[0mresponse\u001b[0m\u001b[0;34m)\u001b[0m\u001b[0;34m\u001b[0m\u001b[0m\n\u001b[0m\u001b[1;32m    533\u001b[0m \u001b[0;34m\u001b[0m\u001b[0m\n\u001b[1;32m    534\u001b[0m         \u001b[0;32mreturn\u001b[0m \u001b[0mresponse\u001b[0m\u001b[0;34m\u001b[0m\u001b[0m\n",
      "\u001b[0;32m~/anaconda3/lib/python3.6/urllib/request.py\u001b[0m in \u001b[0;36mhttp_response\u001b[0;34m(self, request, response)\u001b[0m\n\u001b[1;32m    640\u001b[0m         \u001b[0;32mif\u001b[0m \u001b[0;32mnot\u001b[0m \u001b[0;34m(\u001b[0m\u001b[0;36m200\u001b[0m \u001b[0;34m<=\u001b[0m \u001b[0mcode\u001b[0m \u001b[0;34m<\u001b[0m \u001b[0;36m300\u001b[0m\u001b[0;34m)\u001b[0m\u001b[0;34m:\u001b[0m\u001b[0;34m\u001b[0m\u001b[0m\n\u001b[1;32m    641\u001b[0m             response = self.parent.error(\n\u001b[0;32m--> 642\u001b[0;31m                 'http', request, response, code, msg, hdrs)\n\u001b[0m\u001b[1;32m    643\u001b[0m \u001b[0;34m\u001b[0m\u001b[0m\n\u001b[1;32m    644\u001b[0m         \u001b[0;32mreturn\u001b[0m \u001b[0mresponse\u001b[0m\u001b[0;34m\u001b[0m\u001b[0m\n",
      "\u001b[0;32m~/anaconda3/lib/python3.6/urllib/request.py\u001b[0m in \u001b[0;36merror\u001b[0;34m(self, proto, *args)\u001b[0m\n\u001b[1;32m    562\u001b[0m             \u001b[0mhttp_err\u001b[0m \u001b[0;34m=\u001b[0m \u001b[0;36m0\u001b[0m\u001b[0;34m\u001b[0m\u001b[0m\n\u001b[1;32m    563\u001b[0m         \u001b[0margs\u001b[0m \u001b[0;34m=\u001b[0m \u001b[0;34m(\u001b[0m\u001b[0mdict\u001b[0m\u001b[0;34m,\u001b[0m \u001b[0mproto\u001b[0m\u001b[0;34m,\u001b[0m \u001b[0mmeth_name\u001b[0m\u001b[0;34m)\u001b[0m \u001b[0;34m+\u001b[0m \u001b[0margs\u001b[0m\u001b[0;34m\u001b[0m\u001b[0m\n\u001b[0;32m--> 564\u001b[0;31m         \u001b[0mresult\u001b[0m \u001b[0;34m=\u001b[0m \u001b[0mself\u001b[0m\u001b[0;34m.\u001b[0m\u001b[0m_call_chain\u001b[0m\u001b[0;34m(\u001b[0m\u001b[0;34m*\u001b[0m\u001b[0margs\u001b[0m\u001b[0;34m)\u001b[0m\u001b[0;34m\u001b[0m\u001b[0m\n\u001b[0m\u001b[1;32m    565\u001b[0m         \u001b[0;32mif\u001b[0m \u001b[0mresult\u001b[0m\u001b[0;34m:\u001b[0m\u001b[0;34m\u001b[0m\u001b[0m\n\u001b[1;32m    566\u001b[0m             \u001b[0;32mreturn\u001b[0m \u001b[0mresult\u001b[0m\u001b[0;34m\u001b[0m\u001b[0m\n",
      "\u001b[0;32m~/anaconda3/lib/python3.6/urllib/request.py\u001b[0m in \u001b[0;36m_call_chain\u001b[0;34m(self, chain, kind, meth_name, *args)\u001b[0m\n\u001b[1;32m    502\u001b[0m         \u001b[0;32mfor\u001b[0m \u001b[0mhandler\u001b[0m \u001b[0;32min\u001b[0m \u001b[0mhandlers\u001b[0m\u001b[0;34m:\u001b[0m\u001b[0;34m\u001b[0m\u001b[0m\n\u001b[1;32m    503\u001b[0m             \u001b[0mfunc\u001b[0m \u001b[0;34m=\u001b[0m \u001b[0mgetattr\u001b[0m\u001b[0;34m(\u001b[0m\u001b[0mhandler\u001b[0m\u001b[0;34m,\u001b[0m \u001b[0mmeth_name\u001b[0m\u001b[0;34m)\u001b[0m\u001b[0;34m\u001b[0m\u001b[0m\n\u001b[0;32m--> 504\u001b[0;31m             \u001b[0mresult\u001b[0m \u001b[0;34m=\u001b[0m \u001b[0mfunc\u001b[0m\u001b[0;34m(\u001b[0m\u001b[0;34m*\u001b[0m\u001b[0margs\u001b[0m\u001b[0;34m)\u001b[0m\u001b[0;34m\u001b[0m\u001b[0m\n\u001b[0m\u001b[1;32m    505\u001b[0m             \u001b[0;32mif\u001b[0m \u001b[0mresult\u001b[0m \u001b[0;32mis\u001b[0m \u001b[0;32mnot\u001b[0m \u001b[0;32mNone\u001b[0m\u001b[0;34m:\u001b[0m\u001b[0;34m\u001b[0m\u001b[0m\n\u001b[1;32m    506\u001b[0m                 \u001b[0;32mreturn\u001b[0m \u001b[0mresult\u001b[0m\u001b[0;34m\u001b[0m\u001b[0m\n",
      "\u001b[0;32m~/anaconda3/lib/python3.6/urllib/request.py\u001b[0m in \u001b[0;36mhttp_error_302\u001b[0;34m(self, req, fp, code, msg, headers)\u001b[0m\n\u001b[1;32m    754\u001b[0m         \u001b[0mfp\u001b[0m\u001b[0;34m.\u001b[0m\u001b[0mclose\u001b[0m\u001b[0;34m(\u001b[0m\u001b[0;34m)\u001b[0m\u001b[0;34m\u001b[0m\u001b[0m\n\u001b[1;32m    755\u001b[0m \u001b[0;34m\u001b[0m\u001b[0m\n\u001b[0;32m--> 756\u001b[0;31m         \u001b[0;32mreturn\u001b[0m \u001b[0mself\u001b[0m\u001b[0;34m.\u001b[0m\u001b[0mparent\u001b[0m\u001b[0;34m.\u001b[0m\u001b[0mopen\u001b[0m\u001b[0;34m(\u001b[0m\u001b[0mnew\u001b[0m\u001b[0;34m,\u001b[0m \u001b[0mtimeout\u001b[0m\u001b[0;34m=\u001b[0m\u001b[0mreq\u001b[0m\u001b[0;34m.\u001b[0m\u001b[0mtimeout\u001b[0m\u001b[0;34m)\u001b[0m\u001b[0;34m\u001b[0m\u001b[0m\n\u001b[0m\u001b[1;32m    757\u001b[0m \u001b[0;34m\u001b[0m\u001b[0m\n\u001b[1;32m    758\u001b[0m     \u001b[0mhttp_error_301\u001b[0m \u001b[0;34m=\u001b[0m \u001b[0mhttp_error_303\u001b[0m \u001b[0;34m=\u001b[0m \u001b[0mhttp_error_307\u001b[0m \u001b[0;34m=\u001b[0m \u001b[0mhttp_error_302\u001b[0m\u001b[0;34m\u001b[0m\u001b[0m\n",
      "\u001b[0;32m~/anaconda3/lib/python3.6/urllib/request.py\u001b[0m in \u001b[0;36mopen\u001b[0;34m(self, fullurl, data, timeout)\u001b[0m\n\u001b[1;32m    530\u001b[0m         \u001b[0;32mfor\u001b[0m \u001b[0mprocessor\u001b[0m \u001b[0;32min\u001b[0m \u001b[0mself\u001b[0m\u001b[0;34m.\u001b[0m\u001b[0mprocess_response\u001b[0m\u001b[0;34m.\u001b[0m\u001b[0mget\u001b[0m\u001b[0;34m(\u001b[0m\u001b[0mprotocol\u001b[0m\u001b[0;34m,\u001b[0m \u001b[0;34m[\u001b[0m\u001b[0;34m]\u001b[0m\u001b[0;34m)\u001b[0m\u001b[0;34m:\u001b[0m\u001b[0;34m\u001b[0m\u001b[0m\n\u001b[1;32m    531\u001b[0m             \u001b[0mmeth\u001b[0m \u001b[0;34m=\u001b[0m \u001b[0mgetattr\u001b[0m\u001b[0;34m(\u001b[0m\u001b[0mprocessor\u001b[0m\u001b[0;34m,\u001b[0m \u001b[0mmeth_name\u001b[0m\u001b[0;34m)\u001b[0m\u001b[0;34m\u001b[0m\u001b[0m\n\u001b[0;32m--> 532\u001b[0;31m             \u001b[0mresponse\u001b[0m \u001b[0;34m=\u001b[0m \u001b[0mmeth\u001b[0m\u001b[0;34m(\u001b[0m\u001b[0mreq\u001b[0m\u001b[0;34m,\u001b[0m \u001b[0mresponse\u001b[0m\u001b[0;34m)\u001b[0m\u001b[0;34m\u001b[0m\u001b[0m\n\u001b[0m\u001b[1;32m    533\u001b[0m \u001b[0;34m\u001b[0m\u001b[0m\n\u001b[1;32m    534\u001b[0m         \u001b[0;32mreturn\u001b[0m \u001b[0mresponse\u001b[0m\u001b[0;34m\u001b[0m\u001b[0m\n",
      "\u001b[0;32m~/anaconda3/lib/python3.6/urllib/request.py\u001b[0m in \u001b[0;36mhttp_response\u001b[0;34m(self, request, response)\u001b[0m\n\u001b[1;32m    640\u001b[0m         \u001b[0;32mif\u001b[0m \u001b[0;32mnot\u001b[0m \u001b[0;34m(\u001b[0m\u001b[0;36m200\u001b[0m \u001b[0;34m<=\u001b[0m \u001b[0mcode\u001b[0m \u001b[0;34m<\u001b[0m \u001b[0;36m300\u001b[0m\u001b[0;34m)\u001b[0m\u001b[0;34m:\u001b[0m\u001b[0;34m\u001b[0m\u001b[0m\n\u001b[1;32m    641\u001b[0m             response = self.parent.error(\n\u001b[0;32m--> 642\u001b[0;31m                 'http', request, response, code, msg, hdrs)\n\u001b[0m\u001b[1;32m    643\u001b[0m \u001b[0;34m\u001b[0m\u001b[0m\n\u001b[1;32m    644\u001b[0m         \u001b[0;32mreturn\u001b[0m \u001b[0mresponse\u001b[0m\u001b[0;34m\u001b[0m\u001b[0m\n",
      "\u001b[0;32m~/anaconda3/lib/python3.6/urllib/request.py\u001b[0m in \u001b[0;36merror\u001b[0;34m(self, proto, *args)\u001b[0m\n\u001b[1;32m    562\u001b[0m             \u001b[0mhttp_err\u001b[0m \u001b[0;34m=\u001b[0m \u001b[0;36m0\u001b[0m\u001b[0;34m\u001b[0m\u001b[0m\n\u001b[1;32m    563\u001b[0m         \u001b[0margs\u001b[0m \u001b[0;34m=\u001b[0m \u001b[0;34m(\u001b[0m\u001b[0mdict\u001b[0m\u001b[0;34m,\u001b[0m \u001b[0mproto\u001b[0m\u001b[0;34m,\u001b[0m \u001b[0mmeth_name\u001b[0m\u001b[0;34m)\u001b[0m \u001b[0;34m+\u001b[0m \u001b[0margs\u001b[0m\u001b[0;34m\u001b[0m\u001b[0m\n\u001b[0;32m--> 564\u001b[0;31m         \u001b[0mresult\u001b[0m \u001b[0;34m=\u001b[0m \u001b[0mself\u001b[0m\u001b[0;34m.\u001b[0m\u001b[0m_call_chain\u001b[0m\u001b[0;34m(\u001b[0m\u001b[0;34m*\u001b[0m\u001b[0margs\u001b[0m\u001b[0;34m)\u001b[0m\u001b[0;34m\u001b[0m\u001b[0m\n\u001b[0m\u001b[1;32m    565\u001b[0m         \u001b[0;32mif\u001b[0m \u001b[0mresult\u001b[0m\u001b[0;34m:\u001b[0m\u001b[0;34m\u001b[0m\u001b[0m\n\u001b[1;32m    566\u001b[0m             \u001b[0;32mreturn\u001b[0m \u001b[0mresult\u001b[0m\u001b[0;34m\u001b[0m\u001b[0m\n",
      "\u001b[0;32m~/anaconda3/lib/python3.6/urllib/request.py\u001b[0m in \u001b[0;36m_call_chain\u001b[0;34m(self, chain, kind, meth_name, *args)\u001b[0m\n\u001b[1;32m    502\u001b[0m         \u001b[0;32mfor\u001b[0m \u001b[0mhandler\u001b[0m \u001b[0;32min\u001b[0m \u001b[0mhandlers\u001b[0m\u001b[0;34m:\u001b[0m\u001b[0;34m\u001b[0m\u001b[0m\n\u001b[1;32m    503\u001b[0m             \u001b[0mfunc\u001b[0m \u001b[0;34m=\u001b[0m \u001b[0mgetattr\u001b[0m\u001b[0;34m(\u001b[0m\u001b[0mhandler\u001b[0m\u001b[0;34m,\u001b[0m \u001b[0mmeth_name\u001b[0m\u001b[0;34m)\u001b[0m\u001b[0;34m\u001b[0m\u001b[0m\n\u001b[0;32m--> 504\u001b[0;31m             \u001b[0mresult\u001b[0m \u001b[0;34m=\u001b[0m \u001b[0mfunc\u001b[0m\u001b[0;34m(\u001b[0m\u001b[0;34m*\u001b[0m\u001b[0margs\u001b[0m\u001b[0;34m)\u001b[0m\u001b[0;34m\u001b[0m\u001b[0m\n\u001b[0m\u001b[1;32m    505\u001b[0m             \u001b[0;32mif\u001b[0m \u001b[0mresult\u001b[0m \u001b[0;32mis\u001b[0m \u001b[0;32mnot\u001b[0m \u001b[0;32mNone\u001b[0m\u001b[0;34m:\u001b[0m\u001b[0;34m\u001b[0m\u001b[0m\n\u001b[1;32m    506\u001b[0m                 \u001b[0;32mreturn\u001b[0m \u001b[0mresult\u001b[0m\u001b[0;34m\u001b[0m\u001b[0m\n",
      "\u001b[0;32m~/anaconda3/lib/python3.6/urllib/request.py\u001b[0m in \u001b[0;36mhttp_error_302\u001b[0;34m(self, req, fp, code, msg, headers)\u001b[0m\n\u001b[1;32m    754\u001b[0m         \u001b[0mfp\u001b[0m\u001b[0;34m.\u001b[0m\u001b[0mclose\u001b[0m\u001b[0;34m(\u001b[0m\u001b[0;34m)\u001b[0m\u001b[0;34m\u001b[0m\u001b[0m\n\u001b[1;32m    755\u001b[0m \u001b[0;34m\u001b[0m\u001b[0m\n\u001b[0;32m--> 756\u001b[0;31m         \u001b[0;32mreturn\u001b[0m \u001b[0mself\u001b[0m\u001b[0;34m.\u001b[0m\u001b[0mparent\u001b[0m\u001b[0;34m.\u001b[0m\u001b[0mopen\u001b[0m\u001b[0;34m(\u001b[0m\u001b[0mnew\u001b[0m\u001b[0;34m,\u001b[0m \u001b[0mtimeout\u001b[0m\u001b[0;34m=\u001b[0m\u001b[0mreq\u001b[0m\u001b[0;34m.\u001b[0m\u001b[0mtimeout\u001b[0m\u001b[0;34m)\u001b[0m\u001b[0;34m\u001b[0m\u001b[0m\n\u001b[0m\u001b[1;32m    757\u001b[0m \u001b[0;34m\u001b[0m\u001b[0m\n\u001b[1;32m    758\u001b[0m     \u001b[0mhttp_error_301\u001b[0m \u001b[0;34m=\u001b[0m \u001b[0mhttp_error_303\u001b[0m \u001b[0;34m=\u001b[0m \u001b[0mhttp_error_307\u001b[0m \u001b[0;34m=\u001b[0m \u001b[0mhttp_error_302\u001b[0m\u001b[0;34m\u001b[0m\u001b[0m\n",
      "\u001b[0;32m~/anaconda3/lib/python3.6/urllib/request.py\u001b[0m in \u001b[0;36mopen\u001b[0;34m(self, fullurl, data, timeout)\u001b[0m\n\u001b[1;32m    524\u001b[0m             \u001b[0mreq\u001b[0m \u001b[0;34m=\u001b[0m \u001b[0mmeth\u001b[0m\u001b[0;34m(\u001b[0m\u001b[0mreq\u001b[0m\u001b[0;34m)\u001b[0m\u001b[0;34m\u001b[0m\u001b[0m\n\u001b[1;32m    525\u001b[0m \u001b[0;34m\u001b[0m\u001b[0m\n\u001b[0;32m--> 526\u001b[0;31m         \u001b[0mresponse\u001b[0m \u001b[0;34m=\u001b[0m \u001b[0mself\u001b[0m\u001b[0;34m.\u001b[0m\u001b[0m_open\u001b[0m\u001b[0;34m(\u001b[0m\u001b[0mreq\u001b[0m\u001b[0;34m,\u001b[0m \u001b[0mdata\u001b[0m\u001b[0;34m)\u001b[0m\u001b[0;34m\u001b[0m\u001b[0m\n\u001b[0m\u001b[1;32m    527\u001b[0m \u001b[0;34m\u001b[0m\u001b[0m\n\u001b[1;32m    528\u001b[0m         \u001b[0;31m# post-process response\u001b[0m\u001b[0;34m\u001b[0m\u001b[0;34m\u001b[0m\u001b[0m\n",
      "\u001b[0;32m~/anaconda3/lib/python3.6/urllib/request.py\u001b[0m in \u001b[0;36m_open\u001b[0;34m(self, req, data)\u001b[0m\n\u001b[1;32m    542\u001b[0m         \u001b[0mprotocol\u001b[0m \u001b[0;34m=\u001b[0m \u001b[0mreq\u001b[0m\u001b[0;34m.\u001b[0m\u001b[0mtype\u001b[0m\u001b[0;34m\u001b[0m\u001b[0m\n\u001b[1;32m    543\u001b[0m         result = self._call_chain(self.handle_open, protocol, protocol +\n\u001b[0;32m--> 544\u001b[0;31m                                   '_open', req)\n\u001b[0m\u001b[1;32m    545\u001b[0m         \u001b[0;32mif\u001b[0m \u001b[0mresult\u001b[0m\u001b[0;34m:\u001b[0m\u001b[0;34m\u001b[0m\u001b[0m\n\u001b[1;32m    546\u001b[0m             \u001b[0;32mreturn\u001b[0m \u001b[0mresult\u001b[0m\u001b[0;34m\u001b[0m\u001b[0m\n",
      "\u001b[0;32m~/anaconda3/lib/python3.6/urllib/request.py\u001b[0m in \u001b[0;36m_call_chain\u001b[0;34m(self, chain, kind, meth_name, *args)\u001b[0m\n\u001b[1;32m    502\u001b[0m         \u001b[0;32mfor\u001b[0m \u001b[0mhandler\u001b[0m \u001b[0;32min\u001b[0m \u001b[0mhandlers\u001b[0m\u001b[0;34m:\u001b[0m\u001b[0;34m\u001b[0m\u001b[0m\n\u001b[1;32m    503\u001b[0m             \u001b[0mfunc\u001b[0m \u001b[0;34m=\u001b[0m \u001b[0mgetattr\u001b[0m\u001b[0;34m(\u001b[0m\u001b[0mhandler\u001b[0m\u001b[0;34m,\u001b[0m \u001b[0mmeth_name\u001b[0m\u001b[0;34m)\u001b[0m\u001b[0;34m\u001b[0m\u001b[0m\n\u001b[0;32m--> 504\u001b[0;31m             \u001b[0mresult\u001b[0m \u001b[0;34m=\u001b[0m \u001b[0mfunc\u001b[0m\u001b[0;34m(\u001b[0m\u001b[0;34m*\u001b[0m\u001b[0margs\u001b[0m\u001b[0;34m)\u001b[0m\u001b[0;34m\u001b[0m\u001b[0m\n\u001b[0m\u001b[1;32m    505\u001b[0m             \u001b[0;32mif\u001b[0m \u001b[0mresult\u001b[0m \u001b[0;32mis\u001b[0m \u001b[0;32mnot\u001b[0m \u001b[0;32mNone\u001b[0m\u001b[0;34m:\u001b[0m\u001b[0;34m\u001b[0m\u001b[0m\n\u001b[1;32m    506\u001b[0m                 \u001b[0;32mreturn\u001b[0m \u001b[0mresult\u001b[0m\u001b[0;34m\u001b[0m\u001b[0m\n",
      "\u001b[0;32m~/anaconda3/lib/python3.6/urllib/request.py\u001b[0m in \u001b[0;36mhttps_open\u001b[0;34m(self, req)\u001b[0m\n\u001b[1;32m   1359\u001b[0m         \u001b[0;32mdef\u001b[0m \u001b[0mhttps_open\u001b[0m\u001b[0;34m(\u001b[0m\u001b[0mself\u001b[0m\u001b[0;34m,\u001b[0m \u001b[0mreq\u001b[0m\u001b[0;34m)\u001b[0m\u001b[0;34m:\u001b[0m\u001b[0;34m\u001b[0m\u001b[0m\n\u001b[1;32m   1360\u001b[0m             return self.do_open(http.client.HTTPSConnection, req,\n\u001b[0;32m-> 1361\u001b[0;31m                 context=self._context, check_hostname=self._check_hostname)\n\u001b[0m\u001b[1;32m   1362\u001b[0m \u001b[0;34m\u001b[0m\u001b[0m\n\u001b[1;32m   1363\u001b[0m         \u001b[0mhttps_request\u001b[0m \u001b[0;34m=\u001b[0m \u001b[0mAbstractHTTPHandler\u001b[0m\u001b[0;34m.\u001b[0m\u001b[0mdo_request_\u001b[0m\u001b[0;34m\u001b[0m\u001b[0m\n",
      "\u001b[0;32m~/anaconda3/lib/python3.6/urllib/request.py\u001b[0m in \u001b[0;36mdo_open\u001b[0;34m(self, http_class, req, **http_conn_args)\u001b[0m\n\u001b[1;32m   1318\u001b[0m                           encode_chunked=req.has_header('Transfer-encoding'))\n\u001b[1;32m   1319\u001b[0m             \u001b[0;32mexcept\u001b[0m \u001b[0mOSError\u001b[0m \u001b[0;32mas\u001b[0m \u001b[0merr\u001b[0m\u001b[0;34m:\u001b[0m \u001b[0;31m# timeout error\u001b[0m\u001b[0;34m\u001b[0m\u001b[0m\n\u001b[0;32m-> 1320\u001b[0;31m                 \u001b[0;32mraise\u001b[0m \u001b[0mURLError\u001b[0m\u001b[0;34m(\u001b[0m\u001b[0merr\u001b[0m\u001b[0;34m)\u001b[0m\u001b[0;34m\u001b[0m\u001b[0m\n\u001b[0m\u001b[1;32m   1321\u001b[0m             \u001b[0mr\u001b[0m \u001b[0;34m=\u001b[0m \u001b[0mh\u001b[0m\u001b[0;34m.\u001b[0m\u001b[0mgetresponse\u001b[0m\u001b[0;34m(\u001b[0m\u001b[0;34m)\u001b[0m\u001b[0;34m\u001b[0m\u001b[0m\n\u001b[1;32m   1322\u001b[0m         \u001b[0;32mexcept\u001b[0m\u001b[0;34m:\u001b[0m\u001b[0;34m\u001b[0m\u001b[0m\n",
      "\u001b[0;31mURLError\u001b[0m: <urlopen error [Errno 61] Connection refused>"
     ]
    }
   ],
   "source": [
    "# download the articles\n",
    "\n",
    "# positive articles from a board (if None, download articles about AI)\n",
    "if positive_board is not None:\n",
    "  positive_entries = list(sess.user.get_tag(positive_board).stream_contents())\n",
    "else:\n",
    "  print(\"downloading articles about AI...\")\n",
    "  import urllib.request, pickle\n",
    "  url = \"https://www.dropbox.com/s/p14pm6qlocz7z0g/50_ai_articles.pickle?dl=1\"\n",
    "  response = urllib.request.urlopen(url)\n",
    "  positive_entries = list(pickle.load(response))\n",
    "n_positive = len(positive_entries)\n",
    "\n",
    "# negative articles from the source feed\n",
    "if source_feed is not None:\n",
    "  negative_entries = list(sess.user.get_category(source_feed).stream_contents(options=StreamOptions(max_count=4*n_positive)))\n",
    "else:\n",
    "  print(\"downloading content from The Verge and Engadget...\")\n",
    "  default_sources_ids = \"feed/http://www.theverge.com/rss/full.xml,feed/http://www.engadget.com/rss-full.xml\"\n",
    "  negative_entries = list(Streamable({'id': default_sources_ids}, sess).stream_contents(options=StreamOptions(max_count=4*n_positive)))\n",
    "n_negative = len(negative_entries)\n",
    "\n",
    "# print results\n",
    "if n_positive<15: raise Exception(f\"You should have at least 15 positive articles (you only have {n_positive} articles at the moment)\")\n",
    "print(f\"loaded {n_positive} positive articles and {n_negative} negative articles\")\n",
    "entries = positive_entries + negative_entries\n",
    "labels = np.concatenate((np.ones(len(positive_entries)), np.zeros(len(negative_entries))), axis=0)"
   ]
  },
  {
   "cell_type": "code",
   "execution_count": null,
   "metadata": {
    "colab": {
     "base_uri": "https://localhost:8080/",
     "height": 204
    },
    "colab_type": "code",
    "id": "C3J8ZNokkeA6",
    "outputId": "dd15869c-32b2-416c-96e1-ba40278b77d2"
   },
   "outputs": [
    {
     "data": {
      "text/html": [
       "<div>\n",
       "<style scoped>\n",
       "    .dataframe tbody tr th:only-of-type {\n",
       "        vertical-align: middle;\n",
       "    }\n",
       "\n",
       "    .dataframe tbody tr th {\n",
       "        vertical-align: top;\n",
       "    }\n",
       "\n",
       "    .dataframe thead th {\n",
       "        text-align: right;\n",
       "    }\n",
       "</style>\n",
       "<table border=\"1\" class=\"dataframe\">\n",
       "  <thead>\n",
       "    <tr style=\"text-align: right;\">\n",
       "      <th></th>\n",
       "      <th>eid</th>\n",
       "      <th>title</th>\n",
       "      <th>content</th>\n",
       "      <th>label</th>\n",
       "    </tr>\n",
       "  </thead>\n",
       "  <tbody>\n",
       "    <tr>\n",
       "      <th>0</th>\n",
       "      <td>PSNTZO8gXFUe+cpCZyApw0vEKWPT4b14D6teBEocIAE=_1...</td>\n",
       "      <td>Facebook sets a new task for AI: guide a virtu...</td>\n",
       "      <td>How do you teach computers to understand langu...</td>\n",
       "      <td>1.0</td>\n",
       "    </tr>\n",
       "    <tr>\n",
       "      <th>1</th>\n",
       "      <td>PSNTZO8gXFUe+cpCZyApw0vEKWPT4b14D6teBEocIAE=_1...</td>\n",
       "      <td>Apple’s new AI chief might actually be the rig...</td>\n",
       "      <td>What is John Giannandrea, Google’s former hea...</td>\n",
       "      <td>1.0</td>\n",
       "    </tr>\n",
       "    <tr>\n",
       "      <th>2</th>\n",
       "      <td>t9NJb6rMt3WVivgF5JJtqOwhhWhdxPuJjlu7LCw1vdk=_1...</td>\n",
       "      <td>Banks are already bumping up against the limit...</td>\n",
       "      <td>While big tech companies might not face regu...</td>\n",
       "      <td>1.0</td>\n",
       "    </tr>\n",
       "    <tr>\n",
       "      <th>3</th>\n",
       "      <td>t9NJb6rMt3WVivgF5JJtqOwhhWhdxPuJjlu7LCw1vdk=_1...</td>\n",
       "      <td>It’s Google’s turn to ask the questions</td>\n",
       "      <td>At Google’s annual developer conference this ...</td>\n",
       "      <td>1.0</td>\n",
       "    </tr>\n",
       "    <tr>\n",
       "      <th>4</th>\n",
       "      <td>PSNTZO8gXFUe+cpCZyApw0vEKWPT4b14D6teBEocIAE=_1...</td>\n",
       "      <td>The White House has set up a task force to hel...</td>\n",
       "      <td>The White House has set up a new task force d...</td>\n",
       "      <td>1.0</td>\n",
       "    </tr>\n",
       "  </tbody>\n",
       "</table>\n",
       "</div>"
      ],
      "text/plain": [
       "                                                 eid  \\\n",
       "0  PSNTZO8gXFUe+cpCZyApw0vEKWPT4b14D6teBEocIAE=_1...   \n",
       "1  PSNTZO8gXFUe+cpCZyApw0vEKWPT4b14D6teBEocIAE=_1...   \n",
       "2  t9NJb6rMt3WVivgF5JJtqOwhhWhdxPuJjlu7LCw1vdk=_1...   \n",
       "3  t9NJb6rMt3WVivgF5JJtqOwhhWhdxPuJjlu7LCw1vdk=_1...   \n",
       "4  PSNTZO8gXFUe+cpCZyApw0vEKWPT4b14D6teBEocIAE=_1...   \n",
       "\n",
       "                                               title  \\\n",
       "0  Facebook sets a new task for AI: guide a virtu...   \n",
       "1  Apple’s new AI chief might actually be the rig...   \n",
       "2  Banks are already bumping up against the limit...   \n",
       "3            It’s Google’s turn to ask the questions   \n",
       "4  The White House has set up a task force to hel...   \n",
       "\n",
       "                                             content  label  \n",
       "0  How do you teach computers to understand langu...    1.0  \n",
       "1   What is John Giannandrea, Google’s former hea...    1.0  \n",
       "2    While big tech companies might not face regu...    1.0  \n",
       "3   At Google’s annual developer conference this ...    1.0  \n",
       "4   The White House has set up a new task force d...    1.0  "
      ]
     },
     "execution_count": 12,
     "metadata": {
      "tags": []
     },
     "output_type": "execute_result"
    }
   ],
   "source": [
    "# build the dataframe\n",
    "\n",
    "def get_text(entry):\n",
    "  full_content = entry.json[\"fullContent\"] if \"fullContent\" in entry.json else \"\"\n",
    "  content = entry.json[\"content\"][\"content\"] if \"content\" in entry.json else \"\"\n",
    "  summary = entry.json[\"summary\"][\"content\"] if \"summary\" in entry.json else \"\"\n",
    "  title = entry.json[\"title\"]\n",
    "  best=max(full_content, content, summary, title, key=len)\n",
    "  return BeautifulSoup(best.replace(\"\\n\", \"\"), 'html.parser').text\n",
    "\n",
    "def build_dataframe(entries):\n",
    "  df = pd.DataFrame()\n",
    "  df[\"eid\"] = [e.json.get(\"id\") for e in entries]  # id of the entry\n",
    "  df[\"title\"] = [e.json[\"title\"] for e in entries] # title of the entry\n",
    "  df[\"content\"] = [get_text(e) for e in entries]   # text content of the entry \n",
    "  return df\n",
    "\n",
    "df = build_dataframe(entries)\n",
    "df[\"label\"] = labels\n",
    "df.head()"
   ]
  },
  {
   "cell_type": "markdown",
   "metadata": {
    "colab_type": "text",
    "id": "vkoOKLwLEyCw"
   },
   "source": [
    "Now that we have our dataset, let's preprocess the text content and build a model !"
   ]
  },
  {
   "cell_type": "markdown",
   "metadata": {
    "colab_type": "text",
    "id": "G2JkRMDgE5Z2"
   },
   "source": [
    "### Preprocess the articles content with TF-IDF\n",
    "\n",
    "We first do lemmatization and stemming before building a TF-IDF vector for each article.\n",
    "\n",
    "Lemmatization and stemming only keep the stem of words.\n",
    "\n",
    "Example:\n",
    "```\n",
    "technology, technologies -> technolog\n",
    "learnt, learns, learning -> learn\n",
    "```\n",
    "We also remove stop words and we tokenize the texts (we split the texts into list of words).\n",
    "\n",
    "Then for each word of each article, we compute its TF-IDF value.\n",
    "\n",
    "For a term $i$ in a document $j$:\n",
    ">$W_{i,j} = tf_{i,j} * \\log\\frac{N}{df_i}$\n",
    "\n",
    "where:\n",
    "\n",
    ">$tf_{i,j} =$ term frequency of $i$ in $j$\n",
    "\n",
    ">$df_i = $ number of documents containing $i$\n",
    "\n",
    ">$N = $ total number of documents\n"
   ]
  },
  {
   "cell_type": "code",
   "execution_count": null,
   "metadata": {
    "colab": {
     "base_uri": "https://localhost:8080/",
     "height": 51
    },
    "colab_type": "code",
    "id": "TehPJyiHyRPf",
    "outputId": "b00c91db-2872-4f45-fa8d-1b99f224757b"
   },
   "outputs": [
    {
     "name": "stdout",
     "output_type": "stream",
     "text": [
      "[nltk_data] Downloading package wordnet to /root/nltk_data...\n",
      "[nltk_data]   Unzipping corpora/wordnet.zip.\n"
     ]
    }
   ],
   "source": [
    "import gensim\n",
    "from gensim.utils import simple_preprocess\n",
    "from gensim.parsing.preprocessing import STOPWORDS\n",
    "from gensim import corpora, models\n",
    "from nltk.stem import WordNetLemmatizer, SnowballStemmer\n",
    "import nltk\n",
    "nltk.download('wordnet')\n",
    "stemmer = SnowballStemmer('english')"
   ]
  },
  {
   "cell_type": "code",
   "execution_count": null,
   "metadata": {
    "colab": {
     "base_uri": "https://localhost:8080/",
     "height": 204
    },
    "colab_type": "code",
    "id": "U66VWf0BmIJC",
    "outputId": "19147cdf-4a72-497f-cce4-b9287702d64d"
   },
   "outputs": [
    {
     "data": {
      "text/html": [
       "<div>\n",
       "<style scoped>\n",
       "    .dataframe tbody tr th:only-of-type {\n",
       "        vertical-align: middle;\n",
       "    }\n",
       "\n",
       "    .dataframe tbody tr th {\n",
       "        vertical-align: top;\n",
       "    }\n",
       "\n",
       "    .dataframe thead th {\n",
       "        text-align: right;\n",
       "    }\n",
       "</style>\n",
       "<table border=\"1\" class=\"dataframe\">\n",
       "  <thead>\n",
       "    <tr style=\"text-align: right;\">\n",
       "      <th></th>\n",
       "      <th>eid</th>\n",
       "      <th>title</th>\n",
       "      <th>content</th>\n",
       "      <th>label</th>\n",
       "      <th>tokenized_content</th>\n",
       "    </tr>\n",
       "  </thead>\n",
       "  <tbody>\n",
       "    <tr>\n",
       "      <th>0</th>\n",
       "      <td>PSNTZO8gXFUe+cpCZyApw0vEKWPT4b14D6teBEocIAE=_1...</td>\n",
       "      <td>Facebook sets a new task for AI: guide a virtu...</td>\n",
       "      <td>How do you teach computers to understand langu...</td>\n",
       "      <td>1.0</td>\n",
       "      <td>[teach, comput, understand, languag, transcrib...</td>\n",
       "    </tr>\n",
       "    <tr>\n",
       "      <th>1</th>\n",
       "      <td>PSNTZO8gXFUe+cpCZyApw0vEKWPT4b14D6teBEocIAE=_1...</td>\n",
       "      <td>Apple’s new AI chief might actually be the rig...</td>\n",
       "      <td>What is John Giannandrea, Google’s former hea...</td>\n",
       "      <td>1.0</td>\n",
       "      <td>[john, giannandrea, googl, head, search, ai, g...</td>\n",
       "    </tr>\n",
       "    <tr>\n",
       "      <th>2</th>\n",
       "      <td>t9NJb6rMt3WVivgF5JJtqOwhhWhdxPuJjlu7LCw1vdk=_1...</td>\n",
       "      <td>Banks are already bumping up against the limit...</td>\n",
       "      <td>While big tech companies might not face regu...</td>\n",
       "      <td>1.0</td>\n",
       "      <td>[big, tech, compani, face, regul, artifici, in...</td>\n",
       "    </tr>\n",
       "    <tr>\n",
       "      <th>3</th>\n",
       "      <td>t9NJb6rMt3WVivgF5JJtqOwhhWhdxPuJjlu7LCw1vdk=_1...</td>\n",
       "      <td>It’s Google’s turn to ask the questions</td>\n",
       "      <td>At Google’s annual developer conference this ...</td>\n",
       "      <td>1.0</td>\n",
       "      <td>[googl, annual, develop, confer, past, week, c...</td>\n",
       "    </tr>\n",
       "    <tr>\n",
       "      <th>4</th>\n",
       "      <td>PSNTZO8gXFUe+cpCZyApw0vEKWPT4b14D6teBEocIAE=_1...</td>\n",
       "      <td>The White House has set up a task force to hel...</td>\n",
       "      <td>The White House has set up a new task force d...</td>\n",
       "      <td>1.0</td>\n",
       "      <td>[white, hous, set, new, task, forc, dedic, art...</td>\n",
       "    </tr>\n",
       "  </tbody>\n",
       "</table>\n",
       "</div>"
      ],
      "text/plain": [
       "                                                 eid  \\\n",
       "0  PSNTZO8gXFUe+cpCZyApw0vEKWPT4b14D6teBEocIAE=_1...   \n",
       "1  PSNTZO8gXFUe+cpCZyApw0vEKWPT4b14D6teBEocIAE=_1...   \n",
       "2  t9NJb6rMt3WVivgF5JJtqOwhhWhdxPuJjlu7LCw1vdk=_1...   \n",
       "3  t9NJb6rMt3WVivgF5JJtqOwhhWhdxPuJjlu7LCw1vdk=_1...   \n",
       "4  PSNTZO8gXFUe+cpCZyApw0vEKWPT4b14D6teBEocIAE=_1...   \n",
       "\n",
       "                                               title  \\\n",
       "0  Facebook sets a new task for AI: guide a virtu...   \n",
       "1  Apple’s new AI chief might actually be the rig...   \n",
       "2  Banks are already bumping up against the limit...   \n",
       "3            It’s Google’s turn to ask the questions   \n",
       "4  The White House has set up a task force to hel...   \n",
       "\n",
       "                                             content  label  \\\n",
       "0  How do you teach computers to understand langu...    1.0   \n",
       "1   What is John Giannandrea, Google’s former hea...    1.0   \n",
       "2    While big tech companies might not face regu...    1.0   \n",
       "3   At Google’s annual developer conference this ...    1.0   \n",
       "4   The White House has set up a new task force d...    1.0   \n",
       "\n",
       "                                   tokenized_content  \n",
       "0  [teach, comput, understand, languag, transcrib...  \n",
       "1  [john, giannandrea, googl, head, search, ai, g...  \n",
       "2  [big, tech, compani, face, regul, artifici, in...  \n",
       "3  [googl, annual, develop, confer, past, week, c...  \n",
       "4  [white, hous, set, new, task, forc, dedic, art...  "
      ]
     },
     "execution_count": 14,
     "metadata": {
      "tags": []
     },
     "output_type": "execute_result"
    }
   ],
   "source": [
    "# preprocess text\n",
    "def lemmatize_stemming(text):\n",
    "    return stemmer.stem(WordNetLemmatizer().lemmatize(text, pos='v'))\n",
    "def preprocess(text):\n",
    "    result = []\n",
    "    n_sentences = text.count(\". \")\n",
    "    for token in gensim.utils.simple_preprocess(text):\n",
    "        if token not in gensim.parsing.preprocessing.STOPWORDS and len(token) > 1:\n",
    "            result.append(lemmatize_stemming(token))\n",
    "    return result\n",
    "  \n",
    "df[\"tokenized_content\"] = df[\"content\"].map(preprocess)\n",
    "df.head()"
   ]
  },
  {
   "cell_type": "code",
   "execution_count": null,
   "metadata": {
    "colab": {},
    "colab_type": "code",
    "id": "lR7joeUYpGNI"
   },
   "outputs": [],
   "source": [
    "vocab = corpora.Dictionary(df.tokenized_content)"
   ]
  },
  {
   "cell_type": "code",
   "execution_count": null,
   "metadata": {
    "colab": {
     "base_uri": "https://localhost:8080/",
     "height": 204
    },
    "colab_type": "code",
    "id": "JfSH2BQVtAK3",
    "outputId": "6d047487-dcc0-45e1-a154-86c25b248de3"
   },
   "outputs": [
    {
     "data": {
      "text/html": [
       "<div>\n",
       "<style scoped>\n",
       "    .dataframe tbody tr th:only-of-type {\n",
       "        vertical-align: middle;\n",
       "    }\n",
       "\n",
       "    .dataframe tbody tr th {\n",
       "        vertical-align: top;\n",
       "    }\n",
       "\n",
       "    .dataframe thead th {\n",
       "        text-align: right;\n",
       "    }\n",
       "</style>\n",
       "<table border=\"1\" class=\"dataframe\">\n",
       "  <thead>\n",
       "    <tr style=\"text-align: right;\">\n",
       "      <th></th>\n",
       "      <th>eid</th>\n",
       "      <th>title</th>\n",
       "      <th>content</th>\n",
       "      <th>label</th>\n",
       "      <th>tokenized_content</th>\n",
       "      <th>bow_corpus</th>\n",
       "      <th>tfidf</th>\n",
       "    </tr>\n",
       "  </thead>\n",
       "  <tbody>\n",
       "    <tr>\n",
       "      <th>0</th>\n",
       "      <td>PSNTZO8gXFUe+cpCZyApw0vEKWPT4b14D6teBEocIAE=_1...</td>\n",
       "      <td>Facebook sets a new task for AI: guide a virtu...</td>\n",
       "      <td>How do you teach computers to understand langu...</td>\n",
       "      <td>1.0</td>\n",
       "      <td>[teach, comput, understand, languag, transcrib...</td>\n",
       "      <td>[(0, 2), (1, 1), (2, 1), (3, 5), (4, 16), (5, ...</td>\n",
       "      <td>[0.03314139276585894, 0.01696869807979925, 0.0...</td>\n",
       "    </tr>\n",
       "    <tr>\n",
       "      <th>1</th>\n",
       "      <td>PSNTZO8gXFUe+cpCZyApw0vEKWPT4b14D6teBEocIAE=_1...</td>\n",
       "      <td>Apple’s new AI chief might actually be the rig...</td>\n",
       "      <td>What is John Giannandrea, Google’s former hea...</td>\n",
       "      <td>1.0</td>\n",
       "      <td>[john, giannandrea, googl, head, search, ai, g...</td>\n",
       "      <td>[(4, 11), (6, 7), (11, 2), (15, 2), (16, 1), (...</td>\n",
       "      <td>[0.0, 0.0, 0.0, 0.0, 0.1501294832085813, 0.0, ...</td>\n",
       "    </tr>\n",
       "    <tr>\n",
       "      <th>2</th>\n",
       "      <td>t9NJb6rMt3WVivgF5JJtqOwhhWhdxPuJjlu7LCw1vdk=_1...</td>\n",
       "      <td>Banks are already bumping up against the limit...</td>\n",
       "      <td>While big tech companies might not face regu...</td>\n",
       "      <td>1.0</td>\n",
       "      <td>[big, tech, compani, face, regul, artifici, in...</td>\n",
       "      <td>[(4, 5), (5, 1), (21, 2), (33, 2), (34, 1), (5...</td>\n",
       "      <td>[0.0, 0.0, 0.0, 0.0, 0.1298592676820325, 0.049...</td>\n",
       "    </tr>\n",
       "    <tr>\n",
       "      <th>3</th>\n",
       "      <td>t9NJb6rMt3WVivgF5JJtqOwhhWhdxPuJjlu7LCw1vdk=_1...</td>\n",
       "      <td>It’s Google’s turn to ask the questions</td>\n",
       "      <td>At Google’s annual developer conference this ...</td>\n",
       "      <td>1.0</td>\n",
       "      <td>[googl, annual, develop, confer, past, week, c...</td>\n",
       "      <td>[(1, 1), (4, 1), (6, 6), (9, 1), (11, 2), (13,...</td>\n",
       "      <td>[0.0, 0.019245058305825548, 0.0, 0.0, 0.018573...</td>\n",
       "    </tr>\n",
       "    <tr>\n",
       "      <th>4</th>\n",
       "      <td>PSNTZO8gXFUe+cpCZyApw0vEKWPT4b14D6teBEocIAE=_1...</td>\n",
       "      <td>The White House has set up a task force to hel...</td>\n",
       "      <td>The White House has set up a new task force d...</td>\n",
       "      <td>1.0</td>\n",
       "      <td>[white, hous, set, new, task, forc, dedic, art...</td>\n",
       "      <td>[(4, 14), (20, 1), (53, 1), (69, 1), (76, 1), ...</td>\n",
       "      <td>[0.0, 0.0, 0.0, 0.0, 0.3362381485574112, 0.0, ...</td>\n",
       "    </tr>\n",
       "  </tbody>\n",
       "</table>\n",
       "</div>"
      ],
      "text/plain": [
       "                                                 eid  \\\n",
       "0  PSNTZO8gXFUe+cpCZyApw0vEKWPT4b14D6teBEocIAE=_1...   \n",
       "1  PSNTZO8gXFUe+cpCZyApw0vEKWPT4b14D6teBEocIAE=_1...   \n",
       "2  t9NJb6rMt3WVivgF5JJtqOwhhWhdxPuJjlu7LCw1vdk=_1...   \n",
       "3  t9NJb6rMt3WVivgF5JJtqOwhhWhdxPuJjlu7LCw1vdk=_1...   \n",
       "4  PSNTZO8gXFUe+cpCZyApw0vEKWPT4b14D6teBEocIAE=_1...   \n",
       "\n",
       "                                               title  \\\n",
       "0  Facebook sets a new task for AI: guide a virtu...   \n",
       "1  Apple’s new AI chief might actually be the rig...   \n",
       "2  Banks are already bumping up against the limit...   \n",
       "3            It’s Google’s turn to ask the questions   \n",
       "4  The White House has set up a task force to hel...   \n",
       "\n",
       "                                             content  label  \\\n",
       "0  How do you teach computers to understand langu...    1.0   \n",
       "1   What is John Giannandrea, Google’s former hea...    1.0   \n",
       "2    While big tech companies might not face regu...    1.0   \n",
       "3   At Google’s annual developer conference this ...    1.0   \n",
       "4   The White House has set up a new task force d...    1.0   \n",
       "\n",
       "                                   tokenized_content  \\\n",
       "0  [teach, comput, understand, languag, transcrib...   \n",
       "1  [john, giannandrea, googl, head, search, ai, g...   \n",
       "2  [big, tech, compani, face, regul, artifici, in...   \n",
       "3  [googl, annual, develop, confer, past, week, c...   \n",
       "4  [white, hous, set, new, task, forc, dedic, art...   \n",
       "\n",
       "                                          bow_corpus  \\\n",
       "0  [(0, 2), (1, 1), (2, 1), (3, 5), (4, 16), (5, ...   \n",
       "1  [(4, 11), (6, 7), (11, 2), (15, 2), (16, 1), (...   \n",
       "2  [(4, 5), (5, 1), (21, 2), (33, 2), (34, 1), (5...   \n",
       "3  [(1, 1), (4, 1), (6, 6), (9, 1), (11, 2), (13,...   \n",
       "4  [(4, 14), (20, 1), (53, 1), (69, 1), (76, 1), ...   \n",
       "\n",
       "                                               tfidf  \n",
       "0  [0.03314139276585894, 0.01696869807979925, 0.0...  \n",
       "1  [0.0, 0.0, 0.0, 0.0, 0.1501294832085813, 0.0, ...  \n",
       "2  [0.0, 0.0, 0.0, 0.0, 0.1298592676820325, 0.049...  \n",
       "3  [0.0, 0.019245058305825548, 0.0, 0.0, 0.018573...  \n",
       "4  [0.0, 0.0, 0.0, 0.0, 0.3362381485574112, 0.0, ...  "
      ]
     },
     "execution_count": 16,
     "metadata": {
      "tags": []
     },
     "output_type": "execute_result"
    }
   ],
   "source": [
    "# apply tfidf model\n",
    "def to_vector(key_value_tuples, vector_dim, default_value=0):\n",
    "    rv = np.ones(vector_dim) * default_value\n",
    "    for key, val in key_value_tuples:\n",
    "        rv[key] = val\n",
    "    return rv\n",
    "  \n",
    "df[\"bow_corpus\"] = df.tokenized_content.map(vocab.doc2bow)\n",
    "tfidf = models.TfidfModel(df.bow_corpus)\n",
    "df[\"tfidf\"] = df.bow_corpus.map(lambda bow: to_vector(tfidf[bow], len(vocab)))\n",
    "df.head()"
   ]
  },
  {
   "cell_type": "markdown",
   "metadata": {
    "colab_type": "text",
    "id": "heYG3l0Od0y-"
   },
   "source": [
    "And the vectorization part is done ! We can now use it to train a classifier !"
   ]
  },
  {
   "cell_type": "markdown",
   "metadata": {
    "colab_type": "text",
    "id": "uw4EEBd6d-Yy"
   },
   "source": [
    "### Train the model\n",
    "\n",
    "We will use a [K Nearest Neighbors classifier](http://scikit-learn.org/stable/modules/generated/sklearn.neighbors.KNeighborsClassifier.html) after a [PCA](http://scikit-learn.org/stable/modules/generated/sklearn.decomposition.PCA.html)"
   ]
  },
  {
   "cell_type": "code",
   "execution_count": null,
   "metadata": {
    "colab": {},
    "colab_type": "code",
    "id": "xON1-dw11loE"
   },
   "outputs": [],
   "source": [
    "from sklearn.neighbors import KNeighborsClassifier\n",
    "from sklearn.decomposition import PCA\n",
    "from sklearn.model_selection import train_test_split"
   ]
  },
  {
   "cell_type": "code",
   "execution_count": null,
   "metadata": {
    "colab": {},
    "colab_type": "code",
    "id": "2rrUdl7lhDav"
   },
   "outputs": [],
   "source": [
    "# split into a train set and a test set, so that we can evaluate the model on unseen articles\n",
    "X = np.array(df.tfidf.tolist())\n",
    "y = np.array(df.label.tolist())\n",
    "X_train, X_test, y_train, y_test = train_test_split(X, y)"
   ]
  },
  {
   "cell_type": "code",
   "execution_count": null,
   "metadata": {
    "colab": {},
    "colab_type": "code",
    "id": "mkTtgISUCzQN"
   },
   "outputs": [],
   "source": [
    "# apply pca\n",
    "pca = PCA()\n",
    "X_train_pca = pca.fit_transform(X_train)\n",
    "X_test_pca = pca.transform(X_test)"
   ]
  },
  {
   "cell_type": "code",
   "execution_count": null,
   "metadata": {
    "colab": {},
    "colab_type": "code",
    "id": "ZYpW6dmISDhj"
   },
   "outputs": [],
   "source": [
    "# print the words with the highest weight for several principal components\n",
    "words = set()\n",
    "for i in range(len(pca.components_)):\n",
    "  if i>= 30: break\n",
    "  words.add(vocab[max(range(pca.n_components_), key=lambda j: np.abs(pca.components_[i][j]))])\n",
    "print(words)"
   ]
  },
  {
   "cell_type": "code",
   "execution_count": null,
   "metadata": {
    "colab": {
     "base_uri": "https://localhost:8080/",
     "height": 68
    },
    "colab_type": "code",
    "id": "g6QVoQ0H66aI",
    "outputId": "bae795dd-5fa3-4a97-b0c7-f220e654c888"
   },
   "outputs": [
    {
     "data": {
      "text/plain": [
       "KNeighborsClassifier(algorithm='auto', leaf_size=30, metric='minkowski',\n",
       "           metric_params=None, n_jobs=1, n_neighbors=5, p=2,\n",
       "           weights='uniform')"
      ]
     },
     "execution_count": 20,
     "metadata": {
      "tags": []
     },
     "output_type": "execute_result"
    }
   ],
   "source": [
    "# train knn model\n",
    "model = KNeighborsClassifier(n_neighbors=5)\n",
    "model.fit(X_train_pca, y_train)"
   ]
  },
  {
   "cell_type": "markdown",
   "metadata": {
    "colab_type": "text",
    "id": "hnCgjwjAAtdu"
   },
   "source": [
    "You can now compute the accuracy of your classifier. You should see something between 0.80 and 1. Higher is better."
   ]
  },
  {
   "cell_type": "code",
   "execution_count": null,
   "metadata": {
    "colab": {},
    "colab_type": "code",
    "id": "Nx7DLD717vtk"
   },
   "outputs": [],
   "source": [
    "# score on train set (accuracy)\n",
    "model.score(X_train_pca, y_train)"
   ]
  },
  {
   "cell_type": "code",
   "execution_count": null,
   "metadata": {
    "colab": {},
    "colab_type": "code",
    "id": "ldp5FCh6hUe_"
   },
   "outputs": [],
   "source": [
    "# score on test set (accuracy)\n",
    "model.score(X_test_pca, y_test)"
   ]
  },
  {
   "cell_type": "markdown",
   "metadata": {
    "colab_type": "text",
    "id": "lM5ITtQngoCG"
   },
   "source": [
    "Your smart assistant is ready to classify new articles ! Let's save new interesting article into one of your boards"
   ]
  },
  {
   "cell_type": "markdown",
   "metadata": {
    "colab_type": "text",
    "id": "z7zvmc2Dg4Ui"
   },
   "source": [
    "## Apply the model on new articles and save them\n",
    "\n",
    "To do so, we will download many articles from your source feed, apply the classifier and then use the `feedly-client` to save them into a board.\n",
    "\n",
    "To save an article to a board named `board_name` you can do as follows:\n",
    "\n",
    "```\n",
    "sess.user.get_tag(board_name).tag_entry(entry_id)\n",
    "```"
   ]
  },
  {
   "cell_type": "code",
   "execution_count": null,
   "metadata": {
    "colab": {},
    "colab_type": "code",
    "id": "FYQiXdjR9Sm5"
   },
   "outputs": [],
   "source": [
    "# download new entries\n",
    "max_count = 300\n",
    "if source_feed is not None:\n",
    "  new_articles = list(sess.user.get_category(source_feed).stream_contents(options=StreamOptions(max_count=max_count)))\n",
    "else:\n",
    "  new_articles = list(Streamable({'id': default_sources_ids}, sess).stream_contents(options=StreamOptions(max_count=max_count)))"
   ]
  },
  {
   "cell_type": "code",
   "execution_count": null,
   "metadata": {
    "colab": {},
    "colab_type": "code",
    "id": "Y1RXbmAs-i7v"
   },
   "outputs": [],
   "source": [
    "def preprocess_articles(articles):\n",
    "  df = build_dataframe(articles)\n",
    "  df[\"tokenized_content\"] = df[\"content\"].map(preprocess)\n",
    "  return df\n",
    "def compute_tfidf(df):\n",
    "  df[\"bow_corpus\"] = df.tokenized_content.map(vocab.doc2bow)\n",
    "  df[\"tfidf\"] = df.bow_corpus.map(lambda bow: to_vector(tfidf[bow], len(vocab)))\n",
    "  df[\"X\"] = list(pca.transform(df.tfidf.tolist()))\n",
    "  return df.X.tolist()\n",
    "\n",
    "# process new entries data\n",
    "preprocessed_articles = preprocess_articles(new_articles)\n",
    "tfidf_vectors = compute_tfidf(preprocessed_articles)\n",
    "\n",
    "# apply knn model\n",
    "predictions = model.predict(tfidf_vectors)\n"
   ]
  },
  {
   "cell_type": "code",
   "execution_count": null,
   "metadata": {
    "colab": {},
    "colab_type": "code",
    "id": "w1aUvhRf-mXw"
   },
   "outputs": [],
   "source": [
    "# store predictions\n",
    "new_df = preprocessed_articles\n",
    "new_df[\"pred\"] = predictions"
   ]
  },
  {
   "cell_type": "code",
   "execution_count": null,
   "metadata": {
    "colab": {
     "base_uri": "https://localhost:8080/",
     "height": 289
    },
    "colab_type": "code",
    "id": "Wi9RRHIb_k3A",
    "outputId": "b177c956-0a28-403c-f6b0-9f8af5cca7fc"
   },
   "outputs": [
    {
     "name": "stdout",
     "output_type": "stream",
     "text": [
      "Predicted 14 positive articles. A few examples:\n",
      "17     Google is using AI to help The New York Times ...\n",
      "23     Amazon told employees it would continue to sel...\n",
      "125    China implements tech that can detect people b...\n",
      "160    Microsoft Word is getting a to-do feature to h...\n",
      "182     The way we text says a lot about our personality\n",
      "Name: title, dtype: object\n",
      "...\n",
      "Predicted 286 negative articles. A few examples:\n",
      "0    Google Walkout organizers: changes are a start...\n",
      "1    The fake video era of US politics has arrived ...\n",
      "2    Tesla's Model 3 gets quicker cornering with 'T...\n",
      "3    New Apple patent hints that rumored over-ear h...\n",
      "4    BMW’s i8 Roadster is a daily driver in superca...\n",
      "Name: title, dtype: object\n",
      "...\n"
     ]
    }
   ],
   "source": [
    "# show results\n",
    "print(f\"Predicted {len(new_df.loc[new_df.pred==1])} positive articles. A few examples:\\n{new_df.loc[new_df.pred==1].head().title}\\n...\")\n",
    "print(f\"Predicted {len(new_df.loc[new_df.pred==0])} negative articles. A few examples:\\n{new_df.loc[new_df.pred==0].head().title}\\n...\")"
   ]
  },
  {
   "cell_type": "markdown",
   "metadata": {
    "colab_type": "text",
    "id": "kmpcaNH-yHGx"
   },
   "source": [
    "So, what do you think about the results ? They really depend on the data the classifier is trained on, but in general you should see that the topics of the predicted positive articles are close to the topic of your positive board.\n",
    "\n",
    "**Feel free to try with other source feeds and boards !**\n",
    "\n",
    "You can do that by changing the `source_feed` and `positive_board` values and rerun the notebook."
   ]
  },
  {
   "cell_type": "markdown",
   "metadata": {
    "colab_type": "text",
    "id": "P6QJ-3WAh-xP"
   },
   "source": [
    "If you are happy with the results, you can enter the board name in which you want the new articles to be saved:"
   ]
  },
  {
   "cell_type": "code",
   "execution_count": null,
   "metadata": {
    "colab": {},
    "colab_type": "code",
    "id": "xvT4iR98WDIr"
   },
   "outputs": [],
   "source": [
    "print(\"Here are all your boards:\")\n",
    "for tag_name in sess.user.get_tags():\n",
    "  print(\"\\t\",f'\"{tag_name}\"')"
   ]
  },
  {
   "cell_type": "code",
   "execution_count": null,
   "metadata": {
    "colab": {},
    "colab_type": "code",
    "id": "jj0MmsqesWwn"
   },
   "outputs": [],
   "source": [
    "# TODO: Enter your output board, where the new positive articles will be saved.\n",
    "# If the board doesn't exist, a new board will be created for you.\n",
    "output_board = None\n",
    "\n",
    "if output_board is None:\n",
    "  raise ValueError(\"Please enter a board name\")"
   ]
  },
  {
   "cell_type": "code",
   "execution_count": null,
   "metadata": {
    "colab": {},
    "colab_type": "code",
    "id": "BvGwA7cS_yvG"
   },
   "outputs": [],
   "source": [
    "# tag the articles\n",
    "\n",
    "def get_positive_predictions(df):\n",
    "  return df.loc[new_df.pred==1]\n",
    "\n",
    "tag = sess.user.get_tag(output_board)\n",
    "output_articles = get_positive_predictions(new_df)\n",
    "\n",
    "for i,eid in enumerate(output_articles.eid):\n",
    "  title = output_articles.iloc[i].title\n",
    "  tag.tag_entry(eid)\n",
    "  print(f\"Saved '{title}' into the board '{output_board}'\")"
   ]
  },
  {
   "cell_type": "markdown",
   "metadata": {
    "colab_type": "text",
    "id": "GBoJU_QriDVJ"
   },
   "source": [
    "You can now check your feedly to see the new articles saved into your board ! Feel free to build different classifiers for different topics/positive boards"
   ]
  },
  {
   "cell_type": "markdown",
   "metadata": {
    "colab_type": "text",
    "id": "U7N3sx50_npg"
   },
   "source": [
    "Note for the developers: the feedly APIs rate is limited to 250 API requests per day (500 requests per day for feedly pro and team accounts)."
   ]
  },
  {
   "cell_type": "markdown",
   "metadata": {
    "colab_type": "text",
    "id": "b0BRvuafz554"
   },
   "source": [
    "## Next\n",
    "\n",
    "You can now go further and build complex datasets on feedly on topics, trends... and use a better model:\n",
    "- **Extract other features** from the articles, depending on you task (keywords detection, entity recognition, word/sentence embeddings, article size... )\n",
    "- **Use other classifiers** instead of KNN: naive bayes, SVM, decision trees, neural networks..."
   ]
  },
  {
   "cell_type": "markdown",
   "metadata": {
    "colab_type": "text",
    "id": "8sFmAEwpAN-Y"
   },
   "source": [
    "## Thank you !\n",
    "\n",
    "Congratulations, you just build yourself a smart assistant for your feedly account !\n",
    "Feel free to give feedbacks in the comments section of the feedly blog post, or you can also email me at quentin@feedly.com (or at lhoest.q@gmail.com)"
   ]
  },
  {
   "cell_type": "markdown",
   "metadata": {
    "colab_type": "text",
    "id": "eqGoJrzOCvXO"
   },
   "source": [
    "Passionate about the Web, NLP and Machine Learning? [Join the Feedly Lab on Slack](https://join.slack.com/t/feedlylab/shared_invite/enQtNDEyMzQ2Nzk4OTQ1LWQ3ZmExOWYwNDUwN2U4Yzg2MDZjNDJmZDQ4YTFiY2RmYjIyMjBmOGZiZDQwODQxZjRiZDY2Mzc1NTc1YjNjMmQ) and connect with the Feedly machine learning team!"
   ]
  },
  {
   "cell_type": "markdown",
   "metadata": {
    "colab_type": "text",
    "id": "RFKEZbFQmZTd"
   },
   "source": [
    "Keep reading !\n",
    "\n",
    "- [Getting started with Machine Learning](https://blog.feedly.com/getting-started-with-machine-learning/) <- a list of many good references\n",
    "\n",
    "- [Transfer Learning in NLP](https://blog.feedly.com/transfer-learning-in-nlp/) <- advanced transfer learning techniques to improve your NLP model"
   ]
  },
  {
   "cell_type": "code",
   "execution_count": null,
   "metadata": {
    "colab": {},
    "colab_type": "code",
    "id": "AfUqBeSaATfV"
   },
   "outputs": [],
   "source": []
  }
 ],
 "metadata": {
  "colab": {
   "collapsed_sections": [],
   "include_colab_link": true,
   "name": "Run NLP Experiments using the Feedly API.ipynb",
   "provenance": [],
   "version": "0.3.2"
  },
  "kernelspec": {
   "display_name": "Python 3",
   "language": "python",
   "name": "python3"
  },
  "language_info": {
   "codemirror_mode": {
    "name": "ipython",
    "version": 3
   },
   "file_extension": ".py",
   "mimetype": "text/x-python",
   "name": "python",
   "nbconvert_exporter": "python",
   "pygments_lexer": "ipython3",
   "version": "3.6.4"
  }
 },
 "nbformat": 4,
 "nbformat_minor": 2
}
